{
 "cells": [
  {
   "attachments": {},
   "cell_type": "markdown",
   "metadata": {},
   "source": [
    "# Použití Glauertova řešení Prandtlovy rovnice pro výpočet rozložení vztlaku na křídle"
   ]
  },
  {
   "cell_type": "code",
   "execution_count": 31,
   "metadata": {},
   "outputs": [
    {
     "ename": "ImportError",
     "evalue": "cannot import name 'vypocty_trida' from 'funkce' (unknown location)",
     "output_type": "error",
     "traceback": [
      "\u001b[1;31m---------------------------------------------------------------------------\u001b[0m",
      "\u001b[1;31mImportError\u001b[0m                               Traceback (most recent call last)",
      "\u001b[1;32m~\\AppData\\Local\\Temp\\ipykernel_15868\\61846845.py\u001b[0m in \u001b[0;36m<module>\u001b[1;34m\u001b[0m\n\u001b[1;32m----> 1\u001b[1;33m \u001b[1;32mfrom\u001b[0m \u001b[0mfunkce\u001b[0m \u001b[1;32mimport\u001b[0m \u001b[0mvypocty_trida\u001b[0m\u001b[1;33m\u001b[0m\u001b[1;33m\u001b[0m\u001b[0m\n\u001b[0m\u001b[0;32m      2\u001b[0m \u001b[1;32mfrom\u001b[0m \u001b[0mfunkce\u001b[0m \u001b[1;32mimport\u001b[0m \u001b[0mliftline_trida\u001b[0m\u001b[1;33m\u001b[0m\u001b[1;33m\u001b[0m\u001b[0m\n\u001b[0;32m      3\u001b[0m \u001b[0mliftline\u001b[0m \u001b[1;33m=\u001b[0m \u001b[0mliftline_trida\u001b[0m\u001b[1;33m(\u001b[0m\u001b[1;33m)\u001b[0m\u001b[1;33m\u001b[0m\u001b[1;33m\u001b[0m\u001b[0m\n\u001b[0;32m      4\u001b[0m \u001b[0mvypocty\u001b[0m \u001b[1;33m=\u001b[0m \u001b[0mvypocty_trida\u001b[0m\u001b[1;33m(\u001b[0m\u001b[1;33m)\u001b[0m\u001b[1;33m\u001b[0m\u001b[1;33m\u001b[0m\u001b[0m\n\u001b[0;32m      5\u001b[0m \u001b[0mkonst\u001b[0m \u001b[1;33m=\u001b[0m \u001b[0mliftline\u001b[0m\u001b[1;33m.\u001b[0m\u001b[0mnacteni_dat\u001b[0m\u001b[1;33m(\u001b[0m\u001b[1;34m'data/Isaacs Spitfire.json'\u001b[0m\u001b[1;33m)\u001b[0m\u001b[1;33m\u001b[0m\u001b[1;33m\u001b[0m\u001b[0m\n",
      "\u001b[1;31mImportError\u001b[0m: cannot import name 'vypocty_trida' from 'funkce' (unknown location)"
     ]
    }
   ],
   "source": [
    "from funkce import vypocty_trida\n",
    "from funkce import liftline_trida\n",
    "liftline = liftline_trida()\n",
    "vypocty = vypocty_trida()\n",
    "konst = liftline.nacteni_dat('data/Isaacs Spitfire.json')\n",
    "data_koren, data_konec = liftline.nacteni_csv('data/NACA 2213_T1_Re7.100_M0.00_N11.0_vvp.csv', 'data/NACA 2206_T1_Re0.004_M0.00_N11.0_vvp.csv')\n",
    "cy_koren, cy_konec = liftline.vypocet_cy(data_koren, data_konec, konst)\n",
    "A = liftline.liftline(konst, cy_koren, cy_konec)\n",
    "vypocty.grafy(konst, A)\n",
    "vystup = vypocty.vypsani_cy_kr_Y(konst, A)\n",
    "vypocty.ulozeni_dat(konst, vystup)\n",
    "vypocty.ulozeni_dat(konst, vystup)\n"
   ]
  }
 ],
 "metadata": {
  "kernelspec": {
   "display_name": "Python 3",
   "language": "python",
   "name": "python3"
  },
  "language_info": {
   "codemirror_mode": {
    "name": "ipython",
    "version": 3
   },
   "file_extension": ".py",
   "mimetype": "text/x-python",
   "name": "python",
   "nbconvert_exporter": "python",
   "pygments_lexer": "ipython3",
   "version": "3.9.13"
  },
  "orig_nbformat": 4
 },
 "nbformat": 4,
 "nbformat_minor": 2
}
